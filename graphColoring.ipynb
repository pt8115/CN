{
  "nbformat": 4,
  "nbformat_minor": 0,
  "metadata": {
    "colab": {
      "name": "graphColoring.ipynb",
      "provenance": [],
      "authorship_tag": "ABX9TyPZ9EYLTN9FnHmi+hGKuDgf",
      "include_colab_link": true
    },
    "kernelspec": {
      "name": "python3",
      "display_name": "Python 3"
    },
    "language_info": {
      "name": "python"
    }
  },
  "cells": [
    {
      "cell_type": "markdown",
      "metadata": {
        "id": "view-in-github",
        "colab_type": "text"
      },
      "source": [
        "<a href=\"https://colab.research.google.com/github/pt8115/CN/blob/main/graphColoring.ipynb\" target=\"_parent\"><img src=\"https://colab.research.google.com/assets/colab-badge.svg\" alt=\"Open In Colab\"/></a>"
      ]
    },
    {
      "cell_type": "code",
      "execution_count": 4,
      "metadata": {
        "colab": {
          "base_uri": "https://localhost:8080/"
        },
        "id": "dOwDFswILkHa",
        "outputId": "844279d9-62ca-43e4-923a-3fac14acb141"
      },
      "outputs": [
        {
          "output_type": "stream",
          "name": "stdout",
          "text": [
            "Color of vertex 0 is BLUE\n",
            "Color of vertex 1 is GREEN\n",
            "Color of vertex 2 is BLUE\n",
            "Color of vertex 3 is RED\n",
            "Color of vertex 4 is RED\n",
            "Color of vertex 5 is GREEN\n"
          ]
        }
      ],
      "source": [
        "class Graph:\n",
        "    def __init__(self, edges, n):\n",
        "        self.adjList = [[] for _ in range(n)]\n",
        " \n",
        "        for (src, dest) in edges:\n",
        "            self.adjList[src].append(dest)\n",
        "            self.adjList[dest].append(src)\n",
        " \n",
        " \n",
        "def colorGraph(graph, n):\n",
        " \n",
        "    result = {}\n",
        " \n",
        "    for u in range(n):\n",
        " \n",
        "        assigned = set([result.get(i) for i in graph.adjList[u] if i in result])\n",
        " \n",
        "        color = 1\n",
        "        for c in assigned:\n",
        "            if color != c:\n",
        "                break\n",
        "            color = color + 1\n",
        " \n",
        "        result[u] = color\n",
        " \n",
        "    for v in range(n):\n",
        "        print(f'Color of vertex {v} is {colors[result[v]]}')\n",
        " \n",
        " \n",
        "if __name__ == '__main__':\n",
        " \n",
        "    colors = ['', 'BLUE', 'GREEN', 'RED', 'YELLOW', 'ORANGE', 'PINK',\n",
        "            'BLACK', 'BROWN', 'WHITE', 'PURPLE', 'VOILET']\n",
        " \n",
        "    edges = [(0, 1), (0, 4), (0, 5), (4, 5), (1, 4), (1, 3), (2, 3), (2, 4)]\n",
        " \n",
        "    n = 6\n",
        " \n",
        "    graph = Graph(edges, n)\n",
        " \n",
        "    colorGraph(graph, n)"
      ]
    }
  ]
}